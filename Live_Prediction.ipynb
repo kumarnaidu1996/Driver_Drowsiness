{
 "cells": [
  {
   "cell_type": "markdown",
   "metadata": {},
   "source": [
    "# Author: Kumar R"
   ]
  },
  {
   "cell_type": "markdown",
   "metadata": {},
   "source": [
    "This is the live prediction code where it captures video using webcamera and perform the task on every frame."
   ]
  },
  {
   "cell_type": "code",
   "execution_count": 1,
   "metadata": {
    "scrolled": true
   },
   "outputs": [
    {
     "name": "stderr",
     "output_type": "stream",
     "text": [
      "C:\\Users\\Kumar\\anaconda3\\lib\\site-packages\\requests\\__init__.py:89: RequestsDependencyWarning: urllib3 (1.25.9) or chardet (4.0.0) doesn't match a supported version!\n",
      "  warnings.warn(\"urllib3 ({}) or chardet ({}) doesn't match a supported \"\n"
     ]
    },
    {
     "name": "stdout",
     "output_type": "stream",
     "text": [
      "pygame 2.1.0 (SDL 2.0.16, Python 3.8.3)\n",
      "Hello from the pygame community. https://www.pygame.org/contribute.html\n"
     ]
    }
   ],
   "source": [
    "# Import libraries\n",
    "import pandas as pd\n",
    "import numpy as np\n",
    "import tensorflow as tf\n",
    "import matplotlib.pyplot as plt\n",
    "\n",
    "import cv2\n",
    "import os\n",
    "import time\n",
    "from pygame import mixer\n",
    "mixer.init()\n",
    "sound = mixer.Sound('alarm.wav')\n",
    "from keras.models import load_model"
   ]
  },
  {
   "cell_type": "code",
   "execution_count": 2,
   "metadata": {},
   "outputs": [],
   "source": [
    "#!pip install pygame"
   ]
  },
  {
   "cell_type": "markdown",
   "metadata": {},
   "source": [
    "# Load the models"
   ]
  },
  {
   "cell_type": "code",
   "execution_count": 3,
   "metadata": {},
   "outputs": [],
   "source": [
    "# load the model to get the co-ordinates of face\n",
    "face = cv2.CascadeClassifier('haar cascade files\\haarcascade_frontalface_alt.xml')\n",
    "\n",
    "# load the model to get the co-ordinates of eyes\n",
    "leye = cv2.CascadeClassifier('haar cascade files\\haarcascade_lefteye_2splits.xml')\n",
    "reye = cv2.CascadeClassifier('haar cascade files\\haarcascade_righteye_2splits.xml')\n",
    "\n",
    "# Load the CNN trained classification model \n",
    "model = load_model('Drowsiness_CNN_Model_tf1.h5')"
   ]
  },
  {
   "cell_type": "code",
   "execution_count": 12,
   "metadata": {},
   "outputs": [],
   "source": [
    "path = os.getcwd() #Return a unicode string representing the current working directory.\n",
    "\n",
    "font  = cv2.FONT_HERSHEY_COMPLEX_SMALL\n",
    "score = 0\n",
    "thick = 2\n",
    "label = ['Closed','Open']\n",
    "\n",
    "out = cv2.VideoWriter('output.avi',cv2.VideoWriter_fourcc(*\"MJPG\"),20.0, (640,480))\n",
    "cap = cv2.VideoCapture(0)\n",
    "\n",
    "while(True):\n",
    "    \n",
    "    _,frame = cap.read()\n",
    "    height, width = frame.shape[:2]\n",
    "    \n",
    "    # convert color image into grayscale\n",
    "    gray = cv2.cvtColor(frame, cv2.COLOR_BGR2GRAY)\n",
    "    \n",
    "    # Get the co-ordinates of face\n",
    "    face_dim = face.detectMultiScale(gray, minNeighbors = 5,scaleFactor=1.1, minSize = (25,25))\n",
    "    \n",
    "    # Get the co-ordinates of eye\n",
    "    left_eye = leye.detectMultiScale(gray)\n",
    "    right_eye = reye.detectMultiScale(gray)\n",
    "    \n",
    "    \n",
    "    for (x,y,w,h) in face_dim:\n",
    "        cv2.rectangle(frame, (x,y),(x+w,y+h), (230,230,230),1)\n",
    "        \n",
    "    for (x,y,w,h) in left_eye:\n",
    "        l_eye = frame[y:y+h, x:x+w]\n",
    "        l_eye = cv2.cvtColor(l_eye,cv2.COLOR_BGR2GRAY)\n",
    "        l_eye = cv2.resize(l_eye, (150,150))\n",
    "        l_eye = l_eye/255\n",
    "        l_eye = l_eye.reshape(150,150,-1)\n",
    "        l_eye = np.expand_dims(l_eye, axis=0)\n",
    "        \n",
    "        l_pred = model.predict_classes(l_eye)\n",
    "        \n",
    "        if l_pred[0]==0:\n",
    "            label = 'Closed'\n",
    "        if l_pred[0]==1:\n",
    "            label = 'Open'\n",
    "            \n",
    "        break\n",
    "        \n",
    "    for (x,y,w,h) in right_eye:\n",
    "        r_eye = frame[x:x+w,y:y+h]\n",
    "        r_eye = cv2.cvtColor(r_eye, cv2.COLOR_BGR2GRAY)\n",
    "        r_eye = cv2.resize(r_eye, (150,150))\n",
    "        r_eye = r_eye/255\n",
    "        r_eye = r_eye.reshape(150,150,-1)\n",
    "        r_eye = np.expand_dims(r_eye, axis=0)\n",
    "        \n",
    "        r_pred = model.predict_classes(r_eye)\n",
    "        \n",
    "        if r_pred[0]==0:\n",
    "            label = 'Closed'\n",
    "        if r_pred[0]==1:\n",
    "            label = 'Open'\n",
    "        break\n",
    "    \n",
    "    # If both the eyes are closed\n",
    "    if (l_pred[0]==0 and r_pred[0]==0):\n",
    "        score =score+1\n",
    "        cv2.putText(frame, \"Closed\", (10,height-20), font,1, (255,255,255),1,cv2.LINE_AA)\n",
    "    \n",
    "    else:\n",
    "        score = score-1\n",
    "        cv2.putText(frame, 'Open', (10,height-20), font,1, (255,255,255),1,cv2.LINE_AA)\n",
    "        \n",
    "    \n",
    "    if score < 0:\n",
    "        score = 0\n",
    "    cv2.putText(frame, 'Score:'+str(score),(100,height-20),font,1,(255,255,255),1,cv2.LINE_AA)\n",
    "    \n",
    "    # If driver is closing the eye for long time, then the alarm will buzz    \n",
    "    if score > 15:\n",
    "        \n",
    "        try:\n",
    "            sound.play()\n",
    "            \n",
    "        except:\n",
    "            pass\n",
    "        \n",
    "        if thick <16:\n",
    "            thick = thick+2\n",
    "        else:\n",
    "            thick = thick-2\n",
    "            if thick<2:\n",
    "                thick = 2\n",
    "        cv2.rectangle(frame,(0,0),(width,height),(0,0,255),thick)\n",
    "    \n",
    "    if score > 45:\n",
    "        score = 40\n",
    "        \n",
    "    # Display the final pic\n",
    "    cv2.imshow('frame', frame)\n",
    "    \n",
    "    # Save the video\n",
    "    out.write(frame)\n",
    "    \n",
    "    # Set up termination key\n",
    "    if cv2.waitKey(1) & 0xFF == ord('q'):\n",
    "        break \n",
    "        \n",
    "cap.release()\n",
    "cv2.destroyAllWindows()"
   ]
  },
  {
   "cell_type": "code",
   "execution_count": null,
   "metadata": {},
   "outputs": [],
   "source": []
  }
 ],
 "metadata": {
  "kernelspec": {
   "display_name": "Python 3",
   "language": "python",
   "name": "python3"
  },
  "language_info": {
   "codemirror_mode": {
    "name": "ipython",
    "version": 3
   },
   "file_extension": ".py",
   "mimetype": "text/x-python",
   "name": "python",
   "nbconvert_exporter": "python",
   "pygments_lexer": "ipython3",
   "version": "3.8.3"
  }
 },
 "nbformat": 4,
 "nbformat_minor": 4
}
