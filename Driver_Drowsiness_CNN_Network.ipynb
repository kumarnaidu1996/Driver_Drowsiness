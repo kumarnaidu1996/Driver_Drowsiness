{
 "cells": [
  {
   "cell_type": "markdown",
   "metadata": {
    "id": "uXIMEZL4loZM"
   },
   "source": [
    "# Author: Kumar R"
   ]
  },
  {
   "cell_type": "markdown",
   "metadata": {},
   "source": [
    "This is page contains the code for CNN architechture and model I trained. It also includes the prediction of offline image"
   ]
  },
  {
   "cell_type": "code",
   "execution_count": 1,
   "metadata": {
    "id": "K8-D9Q8tlw6u"
   },
   "outputs": [],
   "source": [
    "# Import libraries \n",
    "import numpy as np\n",
    "import pandas as pd\n",
    "import tensorflow as tf\n",
    "import matplotlib.pyplot as plt"
   ]
  },
  {
   "cell_type": "code",
   "execution_count": 2,
   "metadata": {
    "id": "x5ZAXGnDlw9V"
   },
   "outputs": [],
   "source": [
    "# Import libraries from keras\n",
    "from keras.preprocessing.image import ImageDataGenerator\n",
    "from tensorflow.keras.optimizers import Adam"
   ]
  },
  {
   "cell_type": "code",
   "execution_count": 3,
   "metadata": {
    "colab": {
     "base_uri": "https://localhost:8080/"
    },
    "id": "VR5kPvEjlw_q",
    "outputId": "1729f046-cc84-4a1e-dbbb-82fc42b4c7d4"
   },
   "outputs": [
    {
     "name": "stdout",
     "output_type": "stream",
     "text": [
      "Mounted at /content/drive/\n"
     ]
    }
   ],
   "source": [
    "# Authentication for google drive\n",
    "from google.colab import drive\n",
    "drive.mount('/content/drive/')"
   ]
  },
  {
   "cell_type": "code",
   "execution_count": 8,
   "metadata": {
    "id": "_FtDDKMmpPv3"
   },
   "outputs": [],
   "source": [
    "# Load the dataset from the drive\n",
    "train_data = '/content/drive/MyDrive/Colab Notebooks/Driver_Drowsiness/dataset_new/train'\n",
    "test_data = '/content/drive/MyDrive/Colab Notebooks/Driver_Drowsiness/dataset_new/test'"
   ]
  },
  {
   "cell_type": "code",
   "execution_count": 9,
   "metadata": {
    "id": "EqC5TaqPlxBz"
   },
   "outputs": [],
   "source": [
    "# Data Augumentation for train data\n",
    "train_augumentor = ImageDataGenerator(rescale=1./255,\n",
    "                                rotation_range = 20,\n",
    "                                shear_range = 30,\n",
    "                                zoom_range = 0.2,\n",
    "                                width_shift_range=0.2)\n",
    "\n",
    "# Data Augumentation for test data\n",
    "test_augumentor = ImageDataGenerator(rescale=1./255)"
   ]
  },
  {
   "cell_type": "code",
   "execution_count": 10,
   "metadata": {
    "colab": {
     "base_uri": "https://localhost:8080/"
    },
    "id": "ipjckI9mlxE0",
    "outputId": "d31c0d9d-c0e7-4ed5-d7fe-bb42b78dfbcc"
   },
   "outputs": [
    {
     "name": "stdout",
     "output_type": "stream",
     "text": [
      "Found 1234 images belonging to 2 classes.\n",
      "Found 217 images belonging to 2 classes.\n"
     ]
    }
   ],
   "source": [
    "# Create a train and test image dataset for model to train and test respetively\n",
    "train = train_augumentor.flow_from_directory(train_data,\n",
    "                                             target_size = (150,150), # Image size\n",
    "                                             batch_size = 20, # 20 images per batch\n",
    "                                             color_mode = 'grayscale', # Converting color to grayscale\n",
    "                                             class_mode = 'binary') # Since I have only 2 classes\n",
    "\n",
    "test = test_augumentor.flow_from_directory(test_data,\n",
    "                                           batch_size = 20,\n",
    "                                           target_size = (150,150),\n",
    "                                           color_mode = 'grayscale',\n",
    "                                           class_mode = 'binary')"
   ]
  },
  {
   "cell_type": "markdown",
   "metadata": {},
   "source": [
    "# CNN Model"
   ]
  },
  {
   "cell_type": "code",
   "execution_count": 12,
   "metadata": {
    "id": "qQ4fobvqqMAK"
   },
   "outputs": [],
   "source": [
    "# Build a model using CNN and ANN network\n",
    "\n",
    "# Initialize the model\n",
    "model  = tf.keras.models.Sequential()\n",
    "\n",
    "# Add input layer to the model\n",
    "model.add(tf.keras.layers.Conv2D(32, (3,3),activation='relu',input_shape = (150,150,1)))\n",
    "model.add(tf.keras.layers.MaxPooling2D(2,2))\n",
    "\n",
    "# Add hidden layers\n",
    "model.add(tf.keras.layers.Conv2D(32,(3,3), activation='relu'))\n",
    "model.add(tf.keras.layers.MaxPooling2D(2,2))\n",
    "\n",
    "model.add(tf.keras.layers.Conv2D(32,(3,3), activation='relu'))\n",
    "model.add(tf.keras.layers.MaxPooling2D(2,2))\n",
    "\n",
    "# Flaten\n",
    "model.add(tf.keras.layers.Flatten())\n",
    "\n",
    "# Dense layers\n",
    "model.add(tf.keras.layers.Dense(units=124, activation='relu'))\n",
    "\n",
    "# Output layer\n",
    "model.add(tf.keras.layers.Dense(units=1, activation='sigmoid'))"
   ]
  },
  {
   "cell_type": "code",
   "execution_count": 13,
   "metadata": {
    "id": "R7Dv-mR37ewv"
   },
   "outputs": [],
   "source": [
    "# Model compiler \n",
    "model.compile(optimizer='Adam', loss = 'binary_crossentropy', metrics=['accuracy'])"
   ]
  },
  {
   "cell_type": "code",
   "execution_count": 14,
   "metadata": {
    "colab": {
     "base_uri": "https://localhost:8080/"
    },
    "id": "jzufIiHG8EON",
    "outputId": "71be1506-eaab-4a1c-b695-3a1da70d8d2c"
   },
   "outputs": [
    {
     "name": "stderr",
     "output_type": "stream",
     "text": [
      "/usr/local/lib/python3.7/dist-packages/ipykernel_launcher.py:2: UserWarning: `Model.fit_generator` is deprecated and will be removed in a future version. Please use `Model.fit`, which supports generators.\n",
      "  \n"
     ]
    },
    {
     "name": "stdout",
     "output_type": "stream",
     "text": [
      "Epoch 1/100\n",
      "62/62 [==============================] - 334s 5s/step - loss: 0.5546 - accuracy: 0.7010 - val_loss: 0.2580 - val_accuracy: 0.9078\n",
      "Epoch 2/100\n",
      "62/62 [==============================] - 11s 183ms/step - loss: 0.3481 - accuracy: 0.8533 - val_loss: 0.1981 - val_accuracy: 0.9263\n",
      "Epoch 3/100\n",
      "62/62 [==============================] - 11s 186ms/step - loss: 0.3323 - accuracy: 0.8712 - val_loss: 0.2022 - val_accuracy: 0.9493\n",
      "Epoch 4/100\n",
      "62/62 [==============================] - 11s 182ms/step - loss: 0.2406 - accuracy: 0.9109 - val_loss: 0.1588 - val_accuracy: 0.9447\n",
      "Epoch 5/100\n",
      "62/62 [==============================] - 11s 183ms/step - loss: 0.2600 - accuracy: 0.9011 - val_loss: 0.1975 - val_accuracy: 0.9493\n",
      "Epoch 6/100\n",
      "62/62 [==============================] - 11s 186ms/step - loss: 0.2129 - accuracy: 0.9125 - val_loss: 0.1474 - val_accuracy: 0.9355\n",
      "Epoch 7/100\n",
      "62/62 [==============================] - 11s 181ms/step - loss: 0.1981 - accuracy: 0.9165 - val_loss: 0.1879 - val_accuracy: 0.9171\n",
      "Epoch 8/100\n",
      "62/62 [==============================] - 11s 182ms/step - loss: 0.2022 - accuracy: 0.9279 - val_loss: 0.1497 - val_accuracy: 0.9401\n",
      "Epoch 9/100\n",
      "62/62 [==============================] - 11s 184ms/step - loss: 0.1995 - accuracy: 0.9263 - val_loss: 0.1407 - val_accuracy: 0.9539\n",
      "Epoch 10/100\n",
      "62/62 [==============================] - 11s 183ms/step - loss: 0.1651 - accuracy: 0.9352 - val_loss: 0.1288 - val_accuracy: 0.9401\n",
      "Epoch 11/100\n",
      "62/62 [==============================] - 11s 184ms/step - loss: 0.1550 - accuracy: 0.9425 - val_loss: 0.1456 - val_accuracy: 0.9539\n",
      "Epoch 12/100\n",
      "62/62 [==============================] - 11s 182ms/step - loss: 0.1705 - accuracy: 0.9384 - val_loss: 0.1418 - val_accuracy: 0.9585\n",
      "Epoch 13/100\n",
      "62/62 [==============================] - 11s 182ms/step - loss: 0.1814 - accuracy: 0.9344 - val_loss: 0.0922 - val_accuracy: 0.9677\n",
      "Epoch 14/100\n",
      "62/62 [==============================] - 12s 185ms/step - loss: 0.1617 - accuracy: 0.9400 - val_loss: 0.1104 - val_accuracy: 0.9539\n",
      "Epoch 15/100\n",
      "62/62 [==============================] - 11s 185ms/step - loss: 0.1485 - accuracy: 0.9449 - val_loss: 0.1063 - val_accuracy: 0.9585\n",
      "Epoch 16/100\n",
      "62/62 [==============================] - 11s 185ms/step - loss: 0.1458 - accuracy: 0.9457 - val_loss: 0.0864 - val_accuracy: 0.9585\n",
      "Epoch 17/100\n",
      "62/62 [==============================] - 11s 180ms/step - loss: 0.1467 - accuracy: 0.9514 - val_loss: 0.1511 - val_accuracy: 0.9539\n",
      "Epoch 18/100\n",
      "62/62 [==============================] - 11s 179ms/step - loss: 0.1577 - accuracy: 0.9433 - val_loss: 0.0910 - val_accuracy: 0.9677\n",
      "Epoch 19/100\n",
      "62/62 [==============================] - 11s 183ms/step - loss: 0.1189 - accuracy: 0.9506 - val_loss: 0.0904 - val_accuracy: 0.9677\n",
      "Epoch 20/100\n",
      "62/62 [==============================] - 11s 182ms/step - loss: 0.1411 - accuracy: 0.9457 - val_loss: 0.0906 - val_accuracy: 0.9631\n",
      "Epoch 21/100\n",
      "62/62 [==============================] - 11s 182ms/step - loss: 0.0903 - accuracy: 0.9652 - val_loss: 0.0808 - val_accuracy: 0.9631\n",
      "Epoch 22/100\n",
      "62/62 [==============================] - 11s 183ms/step - loss: 0.1201 - accuracy: 0.9595 - val_loss: 0.0792 - val_accuracy: 0.9770\n",
      "Epoch 23/100\n",
      "62/62 [==============================] - 11s 183ms/step - loss: 0.1180 - accuracy: 0.9530 - val_loss: 0.1176 - val_accuracy: 0.9539\n",
      "Epoch 24/100\n",
      "62/62 [==============================] - 11s 182ms/step - loss: 0.1125 - accuracy: 0.9571 - val_loss: 0.0733 - val_accuracy: 0.9724\n",
      "Epoch 25/100\n",
      "62/62 [==============================] - 11s 184ms/step - loss: 0.1098 - accuracy: 0.9587 - val_loss: 0.1030 - val_accuracy: 0.9539\n",
      "Epoch 26/100\n",
      "62/62 [==============================] - 11s 183ms/step - loss: 0.1316 - accuracy: 0.9473 - val_loss: 0.0957 - val_accuracy: 0.9585\n",
      "Epoch 27/100\n",
      "62/62 [==============================] - 11s 185ms/step - loss: 0.1332 - accuracy: 0.9441 - val_loss: 0.0884 - val_accuracy: 0.9539\n",
      "Epoch 28/100\n",
      "62/62 [==============================] - 11s 183ms/step - loss: 0.1110 - accuracy: 0.9652 - val_loss: 0.1157 - val_accuracy: 0.9585\n",
      "Epoch 29/100\n",
      "62/62 [==============================] - 11s 183ms/step - loss: 0.1256 - accuracy: 0.9579 - val_loss: 0.1295 - val_accuracy: 0.9539\n",
      "Epoch 30/100\n",
      "62/62 [==============================] - 11s 183ms/step - loss: 0.1062 - accuracy: 0.9587 - val_loss: 0.0811 - val_accuracy: 0.9677\n",
      "Epoch 31/100\n",
      "62/62 [==============================] - 11s 183ms/step - loss: 0.1166 - accuracy: 0.9635 - val_loss: 0.0647 - val_accuracy: 0.9770\n",
      "Epoch 32/100\n",
      "62/62 [==============================] - 11s 182ms/step - loss: 0.1250 - accuracy: 0.9587 - val_loss: 0.0918 - val_accuracy: 0.9631\n",
      "Epoch 33/100\n",
      "62/62 [==============================] - 12s 186ms/step - loss: 0.1085 - accuracy: 0.9619 - val_loss: 0.0633 - val_accuracy: 0.9677\n",
      "Epoch 34/100\n",
      "62/62 [==============================] - 11s 179ms/step - loss: 0.0895 - accuracy: 0.9676 - val_loss: 0.1278 - val_accuracy: 0.9355\n",
      "Epoch 35/100\n",
      "62/62 [==============================] - 11s 184ms/step - loss: 0.1004 - accuracy: 0.9603 - val_loss: 0.0659 - val_accuracy: 0.9724\n",
      "Epoch 36/100\n",
      "62/62 [==============================] - 11s 181ms/step - loss: 0.0976 - accuracy: 0.9676 - val_loss: 0.0724 - val_accuracy: 0.9724\n",
      "Epoch 37/100\n",
      "62/62 [==============================] - 11s 182ms/step - loss: 0.0772 - accuracy: 0.9749 - val_loss: 0.1007 - val_accuracy: 0.9631\n",
      "Epoch 38/100\n",
      "62/62 [==============================] - 11s 182ms/step - loss: 0.1052 - accuracy: 0.9660 - val_loss: 0.0559 - val_accuracy: 0.9770\n",
      "Epoch 39/100\n",
      "62/62 [==============================] - 11s 182ms/step - loss: 0.1032 - accuracy: 0.9546 - val_loss: 0.0860 - val_accuracy: 0.9631\n",
      "Epoch 40/100\n",
      "62/62 [==============================] - 11s 181ms/step - loss: 0.0760 - accuracy: 0.9692 - val_loss: 0.0627 - val_accuracy: 0.9770\n",
      "Epoch 41/100\n",
      "62/62 [==============================] - 11s 182ms/step - loss: 0.0642 - accuracy: 0.9708 - val_loss: 0.0627 - val_accuracy: 0.9724\n",
      "Epoch 42/100\n",
      "62/62 [==============================] - 12s 187ms/step - loss: 0.0749 - accuracy: 0.9749 - val_loss: 0.0596 - val_accuracy: 0.9816\n",
      "Epoch 43/100\n",
      "62/62 [==============================] - 11s 184ms/step - loss: 0.0881 - accuracy: 0.9668 - val_loss: 0.0547 - val_accuracy: 0.9816\n",
      "Epoch 44/100\n",
      "62/62 [==============================] - 11s 185ms/step - loss: 0.0802 - accuracy: 0.9635 - val_loss: 0.0615 - val_accuracy: 0.9724\n",
      "Epoch 45/100\n",
      "62/62 [==============================] - 12s 186ms/step - loss: 0.0844 - accuracy: 0.9643 - val_loss: 0.0522 - val_accuracy: 0.9816\n",
      "Epoch 46/100\n",
      "62/62 [==============================] - 11s 183ms/step - loss: 0.0767 - accuracy: 0.9724 - val_loss: 0.0625 - val_accuracy: 0.9862\n",
      "Epoch 47/100\n",
      "62/62 [==============================] - 11s 180ms/step - loss: 0.0649 - accuracy: 0.9765 - val_loss: 0.0655 - val_accuracy: 0.9677\n",
      "Epoch 48/100\n",
      "62/62 [==============================] - 11s 183ms/step - loss: 0.0808 - accuracy: 0.9684 - val_loss: 0.0727 - val_accuracy: 0.9724\n",
      "Epoch 49/100\n",
      "62/62 [==============================] - 11s 183ms/step - loss: 0.0631 - accuracy: 0.9789 - val_loss: 0.0861 - val_accuracy: 0.9677\n",
      "Epoch 50/100\n",
      "62/62 [==============================] - 11s 182ms/step - loss: 0.0822 - accuracy: 0.9741 - val_loss: 0.0618 - val_accuracy: 0.9677\n",
      "Epoch 51/100\n",
      "62/62 [==============================] - 11s 182ms/step - loss: 0.0606 - accuracy: 0.9806 - val_loss: 0.0582 - val_accuracy: 0.9816\n",
      "Epoch 52/100\n",
      "62/62 [==============================] - 11s 183ms/step - loss: 0.0882 - accuracy: 0.9716 - val_loss: 0.0393 - val_accuracy: 0.9908\n",
      "Epoch 53/100\n",
      "62/62 [==============================] - 11s 184ms/step - loss: 0.0693 - accuracy: 0.9716 - val_loss: 0.0328 - val_accuracy: 0.9908\n",
      "Epoch 54/100\n",
      "62/62 [==============================] - 11s 184ms/step - loss: 0.0608 - accuracy: 0.9781 - val_loss: 0.0720 - val_accuracy: 0.9631\n",
      "Epoch 55/100\n",
      "62/62 [==============================] - 11s 186ms/step - loss: 0.0656 - accuracy: 0.9676 - val_loss: 0.0525 - val_accuracy: 0.9770\n",
      "Epoch 56/100\n",
      "62/62 [==============================] - 12s 186ms/step - loss: 0.0769 - accuracy: 0.9684 - val_loss: 0.0381 - val_accuracy: 0.9862\n",
      "Epoch 57/100\n",
      "62/62 [==============================] - 11s 183ms/step - loss: 0.0800 - accuracy: 0.9700 - val_loss: 0.0493 - val_accuracy: 0.9770\n",
      "Epoch 58/100\n",
      "62/62 [==============================] - 11s 182ms/step - loss: 0.0763 - accuracy: 0.9741 - val_loss: 0.0480 - val_accuracy: 0.9816\n",
      "Epoch 59/100\n",
      "62/62 [==============================] - 11s 183ms/step - loss: 0.0637 - accuracy: 0.9757 - val_loss: 0.0284 - val_accuracy: 0.9908\n",
      "Epoch 60/100\n",
      "62/62 [==============================] - 11s 180ms/step - loss: 0.0749 - accuracy: 0.9708 - val_loss: 0.0466 - val_accuracy: 0.9908\n",
      "Epoch 61/100\n",
      "62/62 [==============================] - 11s 181ms/step - loss: 0.0631 - accuracy: 0.9757 - val_loss: 0.0406 - val_accuracy: 0.9908\n",
      "Epoch 62/100\n",
      "62/62 [==============================] - 11s 184ms/step - loss: 0.0407 - accuracy: 0.9862 - val_loss: 0.0321 - val_accuracy: 0.9908\n",
      "Epoch 63/100\n",
      "62/62 [==============================] - 11s 181ms/step - loss: 0.0656 - accuracy: 0.9749 - val_loss: 0.0356 - val_accuracy: 0.9908\n",
      "Epoch 64/100\n",
      "62/62 [==============================] - 11s 184ms/step - loss: 0.0559 - accuracy: 0.9822 - val_loss: 0.0812 - val_accuracy: 0.9493\n",
      "Epoch 65/100\n",
      "62/62 [==============================] - 11s 185ms/step - loss: 0.0503 - accuracy: 0.9789 - val_loss: 0.0416 - val_accuracy: 0.9908\n",
      "Epoch 66/100\n",
      "62/62 [==============================] - 11s 183ms/step - loss: 0.1044 - accuracy: 0.9700 - val_loss: 0.0617 - val_accuracy: 0.9770\n",
      "Epoch 67/100\n",
      "62/62 [==============================] - 11s 183ms/step - loss: 0.0517 - accuracy: 0.9814 - val_loss: 0.0345 - val_accuracy: 0.9816\n",
      "Epoch 68/100\n",
      "62/62 [==============================] - 11s 183ms/step - loss: 0.0461 - accuracy: 0.9846 - val_loss: 0.0382 - val_accuracy: 0.9816\n",
      "Epoch 69/100\n",
      "62/62 [==============================] - 11s 185ms/step - loss: 0.0454 - accuracy: 0.9854 - val_loss: 0.0429 - val_accuracy: 0.9816\n",
      "Epoch 70/100\n",
      "62/62 [==============================] - 11s 183ms/step - loss: 0.0384 - accuracy: 0.9822 - val_loss: 0.0409 - val_accuracy: 0.9908\n",
      "Epoch 71/100\n",
      "62/62 [==============================] - 11s 182ms/step - loss: 0.0659 - accuracy: 0.9773 - val_loss: 0.0577 - val_accuracy: 0.9816\n",
      "Epoch 72/100\n",
      "62/62 [==============================] - 11s 184ms/step - loss: 0.0434 - accuracy: 0.9822 - val_loss: 0.0382 - val_accuracy: 0.9862\n",
      "Epoch 73/100\n",
      "62/62 [==============================] - 11s 183ms/step - loss: 0.0485 - accuracy: 0.9806 - val_loss: 0.0382 - val_accuracy: 0.9862\n",
      "Epoch 74/100\n",
      "62/62 [==============================] - 11s 183ms/step - loss: 0.0617 - accuracy: 0.9789 - val_loss: 0.0537 - val_accuracy: 0.9862\n",
      "Epoch 75/100\n",
      "62/62 [==============================] - 11s 183ms/step - loss: 0.0337 - accuracy: 0.9878 - val_loss: 0.0189 - val_accuracy: 0.9954\n",
      "Epoch 76/100\n",
      "62/62 [==============================] - 11s 185ms/step - loss: 0.0553 - accuracy: 0.9822 - val_loss: 0.0380 - val_accuracy: 0.9862\n",
      "Epoch 77/100\n",
      "62/62 [==============================] - 11s 184ms/step - loss: 0.0294 - accuracy: 0.9903 - val_loss: 0.0244 - val_accuracy: 0.9908\n",
      "Epoch 78/100\n",
      "62/62 [==============================] - 11s 185ms/step - loss: 0.0532 - accuracy: 0.9789 - val_loss: 0.0721 - val_accuracy: 0.9677\n",
      "Epoch 79/100\n",
      "62/62 [==============================] - 11s 183ms/step - loss: 0.0530 - accuracy: 0.9806 - val_loss: 0.0337 - val_accuracy: 0.9862\n",
      "Epoch 80/100\n",
      "62/62 [==============================] - 11s 182ms/step - loss: 0.0403 - accuracy: 0.9887 - val_loss: 0.0222 - val_accuracy: 0.9908\n",
      "Epoch 81/100\n",
      "62/62 [==============================] - 11s 185ms/step - loss: 0.0557 - accuracy: 0.9822 - val_loss: 0.0597 - val_accuracy: 0.9677\n",
      "Epoch 82/100\n",
      "62/62 [==============================] - 11s 185ms/step - loss: 0.0277 - accuracy: 0.9887 - val_loss: 0.0253 - val_accuracy: 0.9908\n",
      "Epoch 83/100\n",
      "62/62 [==============================] - 11s 181ms/step - loss: 0.0604 - accuracy: 0.9757 - val_loss: 0.0594 - val_accuracy: 0.9816\n",
      "Epoch 84/100\n",
      "62/62 [==============================] - 11s 185ms/step - loss: 0.0615 - accuracy: 0.9781 - val_loss: 0.0218 - val_accuracy: 0.9954\n",
      "Epoch 85/100\n",
      "62/62 [==============================] - 11s 182ms/step - loss: 0.0423 - accuracy: 0.9854 - val_loss: 0.0222 - val_accuracy: 0.9908\n",
      "Epoch 86/100\n",
      "62/62 [==============================] - 11s 180ms/step - loss: 0.0223 - accuracy: 0.9935 - val_loss: 0.0167 - val_accuracy: 0.9908\n",
      "Epoch 87/100\n",
      "62/62 [==============================] - 11s 183ms/step - loss: 0.0396 - accuracy: 0.9870 - val_loss: 0.0209 - val_accuracy: 0.9908\n",
      "Epoch 88/100\n",
      "62/62 [==============================] - 11s 183ms/step - loss: 0.0341 - accuracy: 0.9887 - val_loss: 0.0358 - val_accuracy: 0.9908\n",
      "Epoch 89/100\n",
      "62/62 [==============================] - 11s 185ms/step - loss: 0.0604 - accuracy: 0.9822 - val_loss: 0.0788 - val_accuracy: 0.9816\n",
      "Epoch 90/100\n",
      "62/62 [==============================] - 11s 183ms/step - loss: 0.0332 - accuracy: 0.9870 - val_loss: 0.0375 - val_accuracy: 0.9954\n",
      "Epoch 91/100\n",
      "62/62 [==============================] - 11s 183ms/step - loss: 0.0355 - accuracy: 0.9870 - val_loss: 0.0663 - val_accuracy: 0.9677\n",
      "Epoch 92/100\n",
      "62/62 [==============================] - 11s 182ms/step - loss: 0.0175 - accuracy: 0.9951 - val_loss: 0.0609 - val_accuracy: 0.9816\n",
      "Epoch 93/100\n",
      "62/62 [==============================] - 11s 181ms/step - loss: 0.0408 - accuracy: 0.9830 - val_loss: 0.0232 - val_accuracy: 1.0000\n",
      "Epoch 94/100\n",
      "62/62 [==============================] - 11s 183ms/step - loss: 0.0533 - accuracy: 0.9781 - val_loss: 0.0512 - val_accuracy: 0.9677\n",
      "Epoch 95/100\n",
      "62/62 [==============================] - 12s 188ms/step - loss: 0.0566 - accuracy: 0.9733 - val_loss: 0.0401 - val_accuracy: 0.9816\n",
      "Epoch 96/100\n",
      "62/62 [==============================] - 11s 185ms/step - loss: 0.0616 - accuracy: 0.9708 - val_loss: 0.0535 - val_accuracy: 0.9908\n",
      "Epoch 97/100\n",
      "62/62 [==============================] - 11s 184ms/step - loss: 0.0293 - accuracy: 0.9887 - val_loss: 0.0268 - val_accuracy: 0.9862\n",
      "Epoch 98/100\n",
      "62/62 [==============================] - 11s 183ms/step - loss: 0.0283 - accuracy: 0.9903 - val_loss: 0.0417 - val_accuracy: 0.9816\n",
      "Epoch 99/100\n",
      "62/62 [==============================] - 11s 185ms/step - loss: 0.0230 - accuracy: 0.9903 - val_loss: 0.0273 - val_accuracy: 0.9908\n",
      "Epoch 100/100\n",
      "62/62 [==============================] - 11s 185ms/step - loss: 0.0280 - accuracy: 0.9911 - val_loss: 0.0288 - val_accuracy: 0.9954\n"
     ]
    }
   ],
   "source": [
    "# Model training\n",
    "hist = model.fit_generator(train, \n",
    "                           validation_data=test,\n",
    "                           epochs=100,\n",
    "                           steps_per_epoch= 62, # number_of_images = batch_size X steps_per_epoch\n",
    "                           validation_steps= 11, \n",
    "                           verbose= True)"
   ]
  },
  {
   "cell_type": "code",
   "execution_count": 15,
   "metadata": {
    "colab": {
     "base_uri": "https://localhost:8080/",
     "height": 298
    },
    "id": "DAuIjcnn89cW",
    "outputId": "cc7c0ac4-65d5-40e3-a0ac-3504e67b1815",
    "scrolled": true
   },
   "outputs": [
    {
     "data": {
      "text/plain": [
       "Text(0.5, 1.0, 'Model Evaluation with Adam 150X150')"
      ]
     },
     "execution_count": 15,
     "metadata": {},
     "output_type": "execute_result"
    },
    {
     "data": {
      "image/png": "[encoded data removed]",
      "text/plain": [
       "<Figure size 432x288 with 1 Axes>"
      ]
     },
     "metadata": {
      "needs_background": "light"
     },
     "output_type": "display_data"
    }
   ],
   "source": [
    "# Visualise the model\n",
    "plt.plot(hist.history['accuracy'])\n",
    "plt.plot(hist.history['val_accuracy'])\n",
    "plt.legend(['train_accuracy','val_accuracy'])\n",
    "plt.title('Model Evaluation with Adam 150X150')\n",
    "plt.show()"
   ]
  },
  {
   "cell_type": "markdown",
   "metadata": {},
   "source": [
    "In the above training, we can see that at 93rd epoch I recieved 100% testing accuracy.\n",
    "\n",
    "Now, I will use Early Stopping method to stop trainig the model I received the required output from the model"
   ]
  },
  {
   "cell_type": "markdown",
   "metadata": {},
   "source": [
    "# Early Stope Method"
   ]
  },
  {
   "cell_type": "code",
   "execution_count": 16,
   "metadata": {
    "id": "hFpfjm7AUfuh"
   },
   "outputs": [],
   "source": [
    "# Early stopping\n",
    "\n",
    "class My_Earlystop(tf.keras.callbacks.Callback):\n",
    "  def __init__(self, cl):\n",
    "    super(My_Earlystop,self).__init__()\n",
    "    self.cl = cl\n",
    "\n",
    "  def on_epoch_end(self, epoch, logs=None):\n",
    "    train_score = logs['accuracy']\n",
    "    test_score = logs['val_accuracy']\n",
    "\n",
    "    if (test_score>train_score and test_score >=self.cl) or test_score == 1 :\n",
    "      self.model.stop_training =  True"
   ]
  },
  {
   "cell_type": "code",
   "execution_count": 17,
   "metadata": {
    "colab": {
     "base_uri": "https://localhost:8080/"
    },
    "id": "tZCh100GUfwp",
    "outputId": "890715dc-498f-44c0-b3b9-0a965eb95be8"
   },
   "outputs": [
    {
     "metadata": {
      "tags": null
     },
     "name": "stderr",
     "output_type": "stream",
     "text": [
      "/usr/local/lib/python3.7/dist-packages/ipykernel_launcher.py:7: UserWarning: `Model.fit_generator` is deprecated and will be removed in a future version. Please use `Model.fit`, which supports generators.\n",
      "  import sys\n"
     ]
    },
    {
     "name": "stdout",
     "output_type": "stream",
     "text": [
      "Epoch 1/100\n",
      "62/62 [==============================] - 11s 184ms/step - loss: 0.0375 - accuracy: 0.9887 - val_loss: 0.0164 - val_accuracy: 0.9954\n",
      "Epoch 2/100\n",
      "62/62 [==============================] - 11s 183ms/step - loss: 0.0244 - accuracy: 0.9911 - val_loss: 0.0121 - val_accuracy: 0.9954\n",
      "Epoch 3/100\n",
      "62/62 [==============================] - 11s 182ms/step - loss: 0.0201 - accuracy: 0.9895 - val_loss: 0.0465 - val_accuracy: 0.9862\n",
      "Epoch 4/100\n",
      "62/62 [==============================] - 11s 180ms/step - loss: 0.0232 - accuracy: 0.9903 - val_loss: 0.0191 - val_accuracy: 0.9862\n",
      "Epoch 5/100\n",
      "62/62 [==============================] - 11s 183ms/step - loss: 0.0154 - accuracy: 0.9951 - val_loss: 0.0255 - val_accuracy: 0.9862\n",
      "Epoch 6/100\n",
      "62/62 [==============================] - 11s 183ms/step - loss: 0.0238 - accuracy: 0.9919 - val_loss: 0.0466 - val_accuracy: 0.9862\n",
      "Epoch 7/100\n",
      "62/62 [==============================] - 11s 183ms/step - loss: 0.0256 - accuracy: 0.9903 - val_loss: 0.0716 - val_accuracy: 0.9724\n",
      "Epoch 8/100\n",
      "62/62 [==============================] - 11s 182ms/step - loss: 0.0382 - accuracy: 0.9830 - val_loss: 0.0250 - val_accuracy: 0.9862\n",
      "Epoch 9/100\n",
      "62/62 [==============================] - 11s 185ms/step - loss: 0.0191 - accuracy: 0.9951 - val_loss: 0.0149 - val_accuracy: 0.9954\n",
      "Epoch 10/100\n",
      "62/62 [==============================] - 11s 185ms/step - loss: 0.0294 - accuracy: 0.9878 - val_loss: 0.0360 - val_accuracy: 0.9862\n",
      "Epoch 11/100\n",
      "62/62 [==============================] - 11s 185ms/step - loss: 0.0222 - accuracy: 0.9895 - val_loss: 0.0201 - val_accuracy: 0.9908\n",
      "Epoch 12/100\n",
      "62/62 [==============================] - 11s 182ms/step - loss: 0.0201 - accuracy: 0.9943 - val_loss: 0.0282 - val_accuracy: 0.9862\n",
      "Epoch 13/100\n",
      "62/62 [==============================] - 11s 182ms/step - loss: 0.0267 - accuracy: 0.9895 - val_loss: 0.0163 - val_accuracy: 0.9908\n",
      "Epoch 14/100\n",
      "62/62 [==============================] - 11s 181ms/step - loss: 0.0304 - accuracy: 0.9903 - val_loss: 0.0240 - val_accuracy: 0.9908\n",
      "Epoch 15/100\n",
      "62/62 [==============================] - 11s 185ms/step - loss: 0.0324 - accuracy: 0.9903 - val_loss: 0.0399 - val_accuracy: 0.9770\n",
      "Epoch 16/100\n",
      "62/62 [==============================] - 11s 183ms/step - loss: 0.0184 - accuracy: 0.9911 - val_loss: 0.0249 - val_accuracy: 0.9862\n",
      "Epoch 17/100\n",
      "62/62 [==============================] - 11s 181ms/step - loss: 0.0244 - accuracy: 0.9927 - val_loss: 0.1001 - val_accuracy: 0.9816\n",
      "Epoch 18/100\n",
      "62/62 [==============================] - 11s 182ms/step - loss: 0.0347 - accuracy: 0.9878 - val_loss: 0.0318 - val_accuracy: 0.9862\n",
      "Epoch 19/100\n",
      "62/62 [==============================] - 11s 183ms/step - loss: 0.0243 - accuracy: 0.9903 - val_loss: 0.0402 - val_accuracy: 0.9770\n",
      "Epoch 20/100\n",
      "62/62 [==============================] - 11s 183ms/step - loss: 0.0369 - accuracy: 0.9887 - val_loss: 0.0185 - val_accuracy: 0.9908\n",
      "Epoch 21/100\n",
      "62/62 [==============================] - 11s 182ms/step - loss: 0.0304 - accuracy: 0.9903 - val_loss: 0.0253 - val_accuracy: 0.9908\n",
      "Epoch 22/100\n",
      "62/62 [==============================] - 11s 184ms/step - loss: 0.0250 - accuracy: 0.9895 - val_loss: 0.0555 - val_accuracy: 0.9908\n",
      "Epoch 23/100\n",
      "62/62 [==============================] - 11s 183ms/step - loss: 0.0300 - accuracy: 0.9903 - val_loss: 0.0323 - val_accuracy: 0.9816\n",
      "Epoch 24/100\n",
      "62/62 [==============================] - 11s 184ms/step - loss: 0.0152 - accuracy: 0.9943 - val_loss: 0.0397 - val_accuracy: 0.9908\n",
      "Epoch 25/100\n",
      "62/62 [==============================] - 11s 181ms/step - loss: 0.0331 - accuracy: 0.9887 - val_loss: 0.0446 - val_accuracy: 0.9908\n",
      "Epoch 26/100\n",
      "62/62 [==============================] - 11s 182ms/step - loss: 0.0188 - accuracy: 0.9951 - val_loss: 0.0474 - val_accuracy: 0.9862\n",
      "Epoch 27/100\n",
      "62/62 [==============================] - 11s 182ms/step - loss: 0.0120 - accuracy: 0.9959 - val_loss: 0.0311 - val_accuracy: 0.9862\n",
      "Epoch 28/100\n",
      "62/62 [==============================] - 11s 181ms/step - loss: 0.0245 - accuracy: 0.9911 - val_loss: 0.0419 - val_accuracy: 0.9816\n",
      "Epoch 29/100\n",
      "62/62 [==============================] - 11s 180ms/step - loss: 0.0091 - accuracy: 0.9984 - val_loss: 0.0298 - val_accuracy: 0.9862\n",
      "Epoch 30/100\n",
      "62/62 [==============================] - 11s 182ms/step - loss: 0.0349 - accuracy: 0.9862 - val_loss: 0.0286 - val_accuracy: 0.9862\n",
      "Epoch 31/100\n",
      "62/62 [==============================] - 11s 181ms/step - loss: 0.0174 - accuracy: 0.9951 - val_loss: 0.0214 - val_accuracy: 0.9908\n",
      "Epoch 32/100\n",
      "62/62 [==============================] - 11s 183ms/step - loss: 0.0148 - accuracy: 0.9943 - val_loss: 0.0458 - val_accuracy: 0.9862\n",
      "Epoch 33/100\n",
      "62/62 [==============================] - 11s 183ms/step - loss: 0.0262 - accuracy: 0.9911 - val_loss: 0.0387 - val_accuracy: 0.9862\n",
      "Epoch 34/100\n",
      "62/62 [==============================] - 11s 181ms/step - loss: 0.0192 - accuracy: 0.9919 - val_loss: 0.0380 - val_accuracy: 0.9816\n",
      "Epoch 35/100\n",
      "62/62 [==============================] - 11s 183ms/step - loss: 0.0401 - accuracy: 0.9862 - val_loss: 0.0774 - val_accuracy: 0.9816\n",
      "Epoch 36/100\n",
      "62/62 [==============================] - 11s 179ms/step - loss: 0.0175 - accuracy: 0.9943 - val_loss: 0.0330 - val_accuracy: 0.9862\n",
      "Epoch 37/100\n",
      "62/62 [==============================] - 11s 182ms/step - loss: 0.0131 - accuracy: 0.9943 - val_loss: 0.0545 - val_accuracy: 0.9862\n",
      "Epoch 38/100\n",
      "62/62 [==============================] - 11s 182ms/step - loss: 0.0210 - accuracy: 0.9951 - val_loss: 0.0146 - val_accuracy: 0.9954\n",
      "Epoch 39/100\n",
      "62/62 [==============================] - 11s 184ms/step - loss: 0.0229 - accuracy: 0.9935 - val_loss: 0.0614 - val_accuracy: 0.9816\n",
      "Epoch 40/100\n",
      "62/62 [==============================] - 11s 182ms/step - loss: 0.0358 - accuracy: 0.9862 - val_loss: 0.0266 - val_accuracy: 0.9954\n",
      "Epoch 41/100\n",
      "62/62 [==============================] - 11s 185ms/step - loss: 0.0220 - accuracy: 0.9943 - val_loss: 0.0064 - val_accuracy: 1.0000\n"
     ]
    }
   ],
   "source": [
    "# Calling early_stoping method\n",
    "early_stoping = My_Earlystop(cl = 1.0) # Since I got 100% accuracy above, I have test accuracy as 100%\n",
    "\n",
    "# Train model with Early_stopping callbacks\n",
    "final_hist = model.fit_generator(train, validation_data=test, epochs=100, steps_per_epoch= 62, validation_steps= 11, verbose= True, callbacks = [early_stoping])"
   ]
  },
  {
   "cell_type": "code",
   "execution_count": 19,
   "metadata": {
    "colab": {
     "base_uri": "https://localhost:8080/",
     "height": 298
    },
    "id": "TW_q5L-tsPaB",
    "outputId": "73dc83e5-b70a-4acb-e7be-d40359139181",
    "scrolled": true
   },
   "outputs": [
    {
     "data": {
      "text/plain": [
       "Text(0.5, 1.0, 'Final Model Performance')"
      ]
     },
     "execution_count": 19,
     "metadata": {},
     "output_type": "execute_result"
    },
    {
     "data": {
      "image/png": "[encoded data removed]",
      "text/plain": [
       "<Figure size 432x288 with 1 Axes>"
      ]
     },
     "metadata": {
      "needs_background": "light"
     },
     "output_type": "display_data"
    }
   ],
   "source": [
    "# Performace visualisation\n",
    "plt.plot(final_hist.history['accuracy'])\n",
    "plt.plot(final_hist.history['val_accuracy'])\n",
    "plt.legend(['Train_score','Test_score'])\n",
    "plt.title('Final Model Performance')\n",
    "plt.show()"
   ]
  },
  {
   "cell_type": "markdown",
   "metadata": {},
   "source": [
    "Model gave 100% accuracy at 41st epoch and it stopped training further so that I can save the best model for the deployment"
   ]
  },
  {
   "cell_type": "markdown",
   "metadata": {},
   "source": [
    "# Model Save"
   ]
  },
  {
   "cell_type": "code",
   "execution_count": 20,
   "metadata": {
    "colab": {
     "base_uri": "https://localhost:8080/"
    },
    "id": "v3qzPRdiUfyx",
    "outputId": "6b2f7611-8bd0-4eec-d155-68ff34bd4357"
   },
   "outputs": [
    {
     "name": "stdout",
     "output_type": "stream",
     "text": [
      "INFO:tensorflow:Assets written to: Drowsiness_CNN_Model_tf2.tf/assets\n"
     ]
    }
   ],
   "source": [
    "# Save the model for tensorflow 2.0\n",
    "model.save('Drowsiness_CNN_Model_tf2.tf')"
   ]
  },
  {
   "cell_type": "code",
   "execution_count": 21,
   "metadata": {
    "id": "z2mDBpUFUf06"
   },
   "outputs": [],
   "source": [
    "# Save the trained model for tensorflow 1.0\n",
    "model.save('Drowsiness_CNN_Model_tf1.h5')"
   ]
  },
  {
   "cell_type": "markdown",
   "metadata": {
    "id": "BaPoTNLxtuQL"
   },
   "source": [
    "# Prediction Stage"
   ]
  },
  {
   "cell_type": "code",
   "execution_count": 1,
   "metadata": {
    "id": "CGSXtZtkUf22"
   },
   "outputs": [
    {
     "name": "stderr",
     "output_type": "stream",
     "text": [
      "C:\\Users\\Kumar\\anaconda3\\lib\\site-packages\\requests\\__init__.py:89: RequestsDependencyWarning: urllib3 (1.25.9) or chardet (4.0.0) doesn't match a supported version!\n",
      "  warnings.warn(\"urllib3 ({}) or chardet ({}) doesn't match a supported \"\n"
     ]
    }
   ],
   "source": [
    "# Import libraries\n",
    "import pandas as pd\n",
    "import numpy as np\n",
    "import tensorflow as tf\n",
    "import matplotlib.pyplot as plt"
   ]
  },
  {
   "cell_type": "code",
   "execution_count": 2,
   "metadata": {
    "id": "Hc0rgXpQUf58"
   },
   "outputs": [],
   "source": [
    "from keras.models import load_model\n",
    "from keras.preprocessing import image"
   ]
  },
  {
   "cell_type": "code",
   "execution_count": 3,
   "metadata": {
    "colab": {
     "base_uri": "https://localhost:8080/",
     "height": 35
    },
    "id": "G3oz_VF0uO7T",
    "outputId": "7e01bafc-18b6-4328-a0da-0beed46647fd"
   },
   "outputs": [
    {
     "data": {
      "text/plain": [
       "'2.4.1'"
      ]
     },
     "execution_count": 3,
     "metadata": {},
     "output_type": "execute_result"
    }
   ],
   "source": [
    "tf.__version__"
   ]
  },
  {
   "cell_type": "code",
   "execution_count": 4,
   "metadata": {
    "colab": {
     "base_uri": "https://localhost:8080/",
     "height": 311
    },
    "id": "B8ojqiQuuWaA",
    "outputId": "1900ed99-f1f2-4d26-d83f-0e39cc773e9c"
   },
   "outputs": [],
   "source": [
    "#Load the trained model\n",
    "model = load_model('Drowsiness_CNN_Model_tf1.h5')"
   ]
  },
  {
   "cell_type": "code",
   "execution_count": 5,
   "metadata": {
    "colab": {
     "base_uri": "https://localhost:8080/",
     "height": 269
    },
    "id": "DqQr72Qaufgp",
    "outputId": "c64fea9b-1d1a-4cf6-a294-c7485dbd127d"
   },
   "outputs": [
    {
     "data": {
      "image/png": "[encoded data removed]",
      "text/plain": [
       "<Figure size 432x288 with 1 Axes>"
      ]
     },
     "metadata": {
      "needs_background": "light"
     },
     "output_type": "display_data"
    }
   ],
   "source": [
    "# Load image\n",
    "url_closed = 'test.jpg'\n",
    "test_image = image.load_img(url_closed, target_size=(150,150),color_mode='grayscale')\n",
    "\n",
    "plt.imshow(test_image)\n",
    "plt.show()\n"
   ]
  },
  {
   "cell_type": "code",
   "execution_count": 6,
   "metadata": {
    "colab": {
     "base_uri": "https://localhost:8080/"
    },
    "id": "rOZrPUDnv_HY",
    "outputId": "1141c8c4-6219-40c1-9df0-a9f3f92fca0a"
   },
   "outputs": [
    {
     "name": "stdout",
     "output_type": "stream",
     "text": [
      "Eye closed\n"
     ]
    }
   ],
   "source": [
    "import warnings\n",
    "warnings.filterwarnings('ignore')\n",
    "# Convert the image to array\n",
    "test_image = image.img_to_array(test_image)\n",
    "# expand the dimentions of an image (4D)\n",
    "test_image = np.expand_dims(test_image, axis=0)\n",
    "# Predict the output\n",
    "pred = model.predict(test_image)\n",
    "\n",
    "# if condition based on the probability value\n",
    "if pred[0][0]==1:\n",
    "  print('Eye Open')\n",
    "elif pred[0][0]==0:\n",
    "  print('Eye closed')"
   ]
  },
  {
   "cell_type": "code",
   "execution_count": null,
   "metadata": {
    "id": "gSMokC3AxaJb"
   },
   "outputs": [],
   "source": [
    "# if Pred == 0, Closed\n",
    "# if pred == 1, Open"
   ]
  }
 ],
 "metadata": {
  "accelerator": "GPU",
  "colab": {
   "collapsed_sections": [],
   "name": "Driver_Drowsiness.ipynb",
   "provenance": []
  },
  "kernelspec": {
   "display_name": "Python 3",
   "language": "python",
   "name": "python3"
  },
  "language_info": {
   "codemirror_mode": {
    "name": "ipython",
    "version": 3
   },
   "file_extension": ".py",
   "mimetype": "text/x-python",
   "name": "python",
   "nbconvert_exporter": "python",
   "pygments_lexer": "ipython3",
   "version": "3.8.3"
  }
 },
 "nbformat": 4,
 "nbformat_minor": 1
}
